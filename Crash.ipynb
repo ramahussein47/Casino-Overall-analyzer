{
 "cells": [
  {
   "cell_type": "markdown",
   "metadata": {},
   "source": [
    "## Necessary Libraries and Constants"
   ]
  },
  {
   "cell_type": "code",
   "execution_count": 8,
   "metadata": {},
   "outputs": [
    {
     "ename": "ModuleNotFoundError",
     "evalue": "No module named 'matplotlib'",
     "output_type": "error",
     "traceback": [
      "\u001b[1;31m---------------------------------------------------------------------------\u001b[0m",
      "\u001b[1;31mModuleNotFoundError\u001b[0m                       Traceback (most recent call last)",
      "\u001b[1;32md:\\crash analytics\\crash analytics\\Crash-Analysis-master\\Crash.ipynb Cell 2\u001b[0m line \u001b[0;36m1\n\u001b[1;32m----> <a href='vscode-notebook-cell:/d%3A/crash%20analytics/crash%20analytics/Crash-Analysis-master/Crash.ipynb#W1sZmlsZQ%3D%3D?line=0'>1</a>\u001b[0m \u001b[39mimport\u001b[39;00m \u001b[39mmatplotlib\u001b[39;00m\u001b[39m.\u001b[39;00m\u001b[39mpyplot\u001b[39;00m \u001b[39mas\u001b[39;00m \u001b[39mplt\u001b[39;00m\n\u001b[0;32m      <a href='vscode-notebook-cell:/d%3A/crash%20analytics/crash%20analytics/Crash-Analysis-master/Crash.ipynb#W1sZmlsZQ%3D%3D?line=1'>2</a>\u001b[0m \u001b[39mimport\u001b[39;00m \u001b[39mnumpy\u001b[39;00m \u001b[39mas\u001b[39;00m \u001b[39mnp\u001b[39;00m\n\u001b[0;32m      <a href='vscode-notebook-cell:/d%3A/crash%20analytics/crash%20analytics/Crash-Analysis-master/Crash.ipynb#W1sZmlsZQ%3D%3D?line=2'>3</a>\u001b[0m \u001b[39mimport\u001b[39;00m \u001b[39mhashlib\u001b[39;00m\n",
      "\u001b[1;31mModuleNotFoundError\u001b[0m: No module named 'matplotlib'"
     ]
    }
   ],
   "source": [
    "import matplotlib.pyplot as plt\n",
    "import numpy as np\n",
    "import hashlib\n",
    "import random\n",
    "import string\n",
    "import hmac\n",
    "\n",
    "e = 2**52\n",
    "salt = \"0000000000000000000fa3b65e43e4240d71762a5bf397d5304b2596d116859c\""
   ]
  },
  {
   "cell_type": "markdown",
   "metadata": {},
   "source": [
    "## Get Result and Get Previous Game Function"
   ]
  },
  {
   "cell_type": "code",
   "execution_count": 8,
   "metadata": {},
   "outputs": [],
   "source": [
    "game_hash = 'c0e06518c7ee7968715feeb1ac2bdc964e000c2505313b34766bd576ca06d8739ed3b44d09d6f656c4aa542dd2883cf8cd71373bf1b003ec2c8394f4dc11777e'\n",
    "\n",
    "def get_result(game_hash):\n",
    "    hm = hmac.new(str.encode(game_hash), b'', hashlib.sha256)\n",
    "    hm.update(salt.encode(\"utf-8\"))\n",
    "    h = hm.hexdigest()\n",
    "    if (int(h, 16) % 33 == 0):\n",
    "        return 1\n",
    "    h = int(h[:13], 16)\n",
    "    e = 2**52\n",
    "    return (((100 * e - h) / (e-h)) // 1) / 100.0\n",
    "\n",
    "def get_prev_game(hash_code):\n",
    "    m = hashlib.sha256()\n",
    "    m.update(hash_code.encode(\"utf-8\"))\n",
    "    return m.hexdigest()"
   ]
  },
  {
   "cell_type": "code",
   "execution_count": null,
   "metadata": {},
   "outputs": [],
   "source": []
  },
  {
   "cell_type": "markdown",
   "metadata": {},
   "source": [
    "## Collecting All Game Results"
   ]
  },
  {
   "cell_type": "code",
   "execution_count": 4,
   "metadata": {},
   "outputs": [
    {
     "ename": "NameError",
     "evalue": "name 'get_result' is not defined",
     "output_type": "error",
     "traceback": [
      "\u001b[1;31m---------------------------------------------------------------------------\u001b[0m",
      "\u001b[1;31mNameError\u001b[0m                                 Traceback (most recent call last)",
      "\u001b[1;32md:\\crash analytics\\crash analytics\\Crash-Analysis-master\\Crash.ipynb Cell 8\u001b[0m line \u001b[0;36m8\n\u001b[0;32m      <a href='vscode-notebook-cell:/d%3A/crash%20analytics/crash%20analytics/Crash-Analysis-master/Crash.ipynb#W5sZmlsZQ%3D%3D?line=5'>6</a>\u001b[0m \u001b[39mwhile\u001b[39;00m game_hash \u001b[39m!=\u001b[39m first_game:\n\u001b[0;32m      <a href='vscode-notebook-cell:/d%3A/crash%20analytics/crash%20analytics/Crash-Analysis-master/Crash.ipynb#W5sZmlsZQ%3D%3D?line=6'>7</a>\u001b[0m     count \u001b[39m+\u001b[39m\u001b[39m=\u001b[39m \u001b[39m1\u001b[39m\n\u001b[1;32m----> <a href='vscode-notebook-cell:/d%3A/crash%20analytics/crash%20analytics/Crash-Analysis-master/Crash.ipynb#W5sZmlsZQ%3D%3D?line=7'>8</a>\u001b[0m     results\u001b[39m.\u001b[39mappend(get_result(game_hash))\n\u001b[0;32m      <a href='vscode-notebook-cell:/d%3A/crash%20analytics/crash%20analytics/Crash-Analysis-master/Crash.ipynb#W5sZmlsZQ%3D%3D?line=8'>9</a>\u001b[0m     game_hash \u001b[39m=\u001b[39m get_prev_game(game_hash)\n\u001b[0;32m     <a href='vscode-notebook-cell:/d%3A/crash%20analytics/crash%20analytics/Crash-Analysis-master/Crash.ipynb#W5sZmlsZQ%3D%3D?line=10'>11</a>\u001b[0m results \u001b[39m=\u001b[39m np\u001b[39m.\u001b[39marray(results)\n",
      "\u001b[1;31mNameError\u001b[0m: name 'get_result' is not defined"
     ]
    }
   ],
   "source": [
    "game_hash = '100af1b49f5e9f87efc81f838bf9b1f5e38293e5b4cf6d0b366c004e0a8d9987' # Update to latest game's hash for more results\n",
    "first_game = \"77b271fe12fca03c618f63dfb79d4105726ba9d4a25bb3f1964e435ccf9cb209\"\n",
    "\n",
    "results = []\n",
    "count = 0\n",
    "while game_hash != first_game:\n",
    "    count += 1\n",
    "    results.append(get_result(game_hash))\n",
    "    game_hash = get_prev_game(game_hash)\n",
    "    \n",
    "results = np.array(results)"
   ]
  },
  {
   "cell_type": "code",
   "execution_count": null,
   "metadata": {},
   "outputs": [
    {
     "name": "stdout",
     "output_type": "stream",
     "text": [
      "618990\n"
     ]
    }
   ],
   "source": [
    "print(count)"
   ]
  },
  {
   "cell_type": "markdown",
   "metadata": {},
   "source": [
    "## Testing Probability Formula"
   ]
  },
  {
   "cell_type": "code",
   "execution_count": null,
   "metadata": {},
   "outputs": [],
   "source": []
  },
  {
   "cell_type": "code",
   "execution_count": 9,
   "metadata": {},
   "outputs": [
    {
     "ename": "TypeError",
     "evalue": "'<=' not supported between instances of 'list' and 'int'",
     "output_type": "error",
     "traceback": [
      "\u001b[1;31m---------------------------------------------------------------------------\u001b[0m",
      "\u001b[1;31mTypeError\u001b[0m                                 Traceback (most recent call last)",
      "\u001b[1;32md:\\crash analytics\\crash analytics\\Crash-Analysis-master\\Crash.ipynb Cell 11\u001b[0m line \u001b[0;36m2\n\u001b[0;32m      <a href='vscode-notebook-cell:/d%3A/crash%20analytics/crash%20analytics/Crash-Analysis-master/Crash.ipynb#X24sZmlsZQ%3D%3D?line=0'>1</a>\u001b[0m multiplier \u001b[39m=\u001b[39m \u001b[39m100\u001b[39m\n\u001b[1;32m----> <a href='vscode-notebook-cell:/d%3A/crash%20analytics/crash%20analytics/Crash-Analysis-master/Crash.ipynb#X24sZmlsZQ%3D%3D?line=1'>2</a>\u001b[0m (results \u001b[39m<\u001b[39;49m\u001b[39m=\u001b[39;49m multiplier)\u001b[39m.\u001b[39mmean(), \u001b[39m1\u001b[39m\u001b[39m/\u001b[39m\u001b[39m33\u001b[39m \u001b[39m+\u001b[39m (\u001b[39m32\u001b[39m\u001b[39m/\u001b[39m\u001b[39m33\u001b[39m)\u001b[39m*\u001b[39m(\u001b[39m.01\u001b[39m \u001b[39m+\u001b[39m \u001b[39m.99\u001b[39m\u001b[39m*\u001b[39m(\u001b[39m1\u001b[39m \u001b[39m-\u001b[39m \u001b[39m1\u001b[39m\u001b[39m/\u001b[39mmultiplier))\n",
      "\u001b[1;31mTypeError\u001b[0m: '<=' not supported between instances of 'list' and 'int'"
     ]
    }
   ],
   "source": [
    "multiplier = 100\n",
    "(results <= multiplier).mean(), 1/33 + (32/33)*(.01 + .99*(1 - 1/multiplier))"
   ]
  },
  {
   "cell_type": "markdown",
   "metadata": {},
   "source": [
    "## Testing Expected Value Formula"
   ]
  },
  {
   "cell_type": "code",
   "execution_count": 13,
   "metadata": {},
   "outputs": [
    {
     "data": {
      "text/plain": [
       "-0.03990399039903636"
      ]
     },
     "execution_count": 13,
     "metadata": {},
     "output_type": "execute_result"
    }
   ],
   "source": [
    "multiplier = 100\n",
    "((1/33) + (32/33)*(.01 + .99*(1 - 1/(multiplier-.01))))*-1 + (multiplier-1)*(1 - ((1/33) + (32/33)*(.01 + .99*(1 - 1/(multiplier-.01)))))"
   ]
  },
  {
   "cell_type": "code",
   "execution_count": 14,
   "metadata": {},
   "outputs": [
    {
     "ename": "TypeError",
     "evalue": "'<' not supported between instances of 'list' and 'int'",
     "output_type": "error",
     "traceback": [
      "\u001b[1;31m---------------------------------------------------------------------------\u001b[0m",
      "\u001b[1;31mTypeError\u001b[0m                                 Traceback (most recent call last)",
      "\u001b[1;32md:\\crash analytics\\crash analytics\\Crash-Analysis-master\\Crash.ipynb Cell 14\u001b[0m line \u001b[0;36m1\n\u001b[1;32m----> <a href='vscode-notebook-cell:/d%3A/crash%20analytics/crash%20analytics/Crash-Analysis-master/Crash.ipynb#X14sZmlsZQ%3D%3D?line=0'>1</a>\u001b[0m (results \u001b[39m<\u001b[39;49m multiplier)\u001b[39m.\u001b[39mmean() \u001b[39m*\u001b[39m \u001b[39m-\u001b[39m\u001b[39m1\u001b[39m \u001b[39m+\u001b[39m (multiplier \u001b[39m-\u001b[39m \u001b[39m1\u001b[39m)\u001b[39m*\u001b[39m(results \u001b[39m>\u001b[39m\u001b[39m=\u001b[39m multiplier)\u001b[39m.\u001b[39mmean()\n",
      "\u001b[1;31mTypeError\u001b[0m: '<' not supported between instances of 'list' and 'int'"
     ]
    }
   ],
   "source": [
    "(results < multiplier).mean() * -1 + (multiplier - 1)*(results >= multiplier).mean()"
   ]
  },
  {
   "cell_type": "markdown",
   "metadata": {},
   "source": [
    "## Visualizations"
   ]
  },
  {
   "cell_type": "code",
   "execution_count": 15,
   "metadata": {},
   "outputs": [
    {
     "ename": "ModuleNotFoundError",
     "evalue": "No module named 'seaborn'",
     "output_type": "error",
     "traceback": [
      "\u001b[1;31m---------------------------------------------------------------------------\u001b[0m",
      "\u001b[1;31mModuleNotFoundError\u001b[0m                       Traceback (most recent call last)",
      "\u001b[1;32md:\\crash analytics\\crash analytics\\Crash-Analysis-master\\Crash.ipynb Cell 16\u001b[0m line \u001b[0;36m1\n\u001b[1;32m----> <a href='vscode-notebook-cell:/d%3A/crash%20analytics/crash%20analytics/Crash-Analysis-master/Crash.ipynb#X16sZmlsZQ%3D%3D?line=0'>1</a>\u001b[0m \u001b[39mimport\u001b[39;00m \u001b[39mseaborn\u001b[39;00m \u001b[39mas\u001b[39;00m \u001b[39msns\u001b[39;00m\n\u001b[0;32m      <a href='vscode-notebook-cell:/d%3A/crash%20analytics/crash%20analytics/Crash-Analysis-master/Crash.ipynb#X16sZmlsZQ%3D%3D?line=1'>2</a>\u001b[0m sns\u001b[39m.\u001b[39mset(rc\u001b[39m=\u001b[39m{\u001b[39m'\u001b[39m\u001b[39mfigure.figsize\u001b[39m\u001b[39m'\u001b[39m:(\u001b[39m11.7\u001b[39m,\u001b[39m8.27\u001b[39m)})\n\u001b[0;32m      <a href='vscode-notebook-cell:/d%3A/crash%20analytics/crash%20analytics/Crash-Analysis-master/Crash.ipynb#X16sZmlsZQ%3D%3D?line=3'>4</a>\u001b[0m plt\u001b[39m.\u001b[39mhist(results, \u001b[39mrange\u001b[39m\u001b[39m=\u001b[39m(\u001b[39m0\u001b[39m, \u001b[39m25\u001b[39m))\n",
      "\u001b[1;31mModuleNotFoundError\u001b[0m: No module named 'seaborn'"
     ]
    }
   ],
   "source": [
    "import seaborn as sns\n",
    "sns.set(rc={'figure.figsize':(11.7,8.27)})\n",
    "\n",
    "plt.hist(results, range=(0, 25))\n",
    "plt.title(\"Histogram of Game Results\", fontsize=20)\n",
    "plt.xticks(fontsize=15)\n",
    "plt.yticks(fontsize=15)\n",
    "plt.ylabel(\"Number of Games Generated\", fontsize=15)\n",
    "plt.xlabel(\"Multiplier\", fontsize=15)"
   ]
  },
  {
   "cell_type": "markdown",
   "metadata": {},
   "source": [
    "3\n"
   ]
  },
  {
   "cell_type": "code",
   "execution_count": 16,
   "metadata": {},
   "outputs": [
    {
     "ename": "NameError",
     "evalue": "name 'np' is not defined",
     "output_type": "error",
     "traceback": [
      "\u001b[1;31m---------------------------------------------------------------------------\u001b[0m",
      "\u001b[1;31mNameError\u001b[0m                                 Traceback (most recent call last)",
      "\u001b[1;32md:\\crash analytics\\crash analytics\\Crash-Analysis-master\\Crash.ipynb Cell 18\u001b[0m line \u001b[0;36m4\n\u001b[0;32m      <a href='vscode-notebook-cell:/d%3A/crash%20analytics/crash%20analytics/Crash-Analysis-master/Crash.ipynb#X20sZmlsZQ%3D%3D?line=0'>1</a>\u001b[0m \u001b[39mdef\u001b[39;00m \u001b[39mcalculate_ev\u001b[39m(multiplier):\n\u001b[0;32m      <a href='vscode-notebook-cell:/d%3A/crash%20analytics/crash%20analytics/Crash-Analysis-master/Crash.ipynb#X20sZmlsZQ%3D%3D?line=1'>2</a>\u001b[0m     \u001b[39mreturn\u001b[39;00m ((\u001b[39m1\u001b[39m\u001b[39m/\u001b[39m\u001b[39m33\u001b[39m) \u001b[39m+\u001b[39m (\u001b[39m32\u001b[39m\u001b[39m/\u001b[39m\u001b[39m33\u001b[39m)\u001b[39m*\u001b[39m(\u001b[39m.01\u001b[39m \u001b[39m+\u001b[39m \u001b[39m.99\u001b[39m\u001b[39m*\u001b[39m(\u001b[39m1\u001b[39m \u001b[39m-\u001b[39m \u001b[39m1\u001b[39m\u001b[39m/\u001b[39m(multiplier\u001b[39m-\u001b[39m\u001b[39m.01\u001b[39m))))\u001b[39m*\u001b[39m\u001b[39m-\u001b[39m\u001b[39m1\u001b[39m \u001b[39m+\u001b[39m (multiplier\u001b[39m-\u001b[39m\u001b[39m1\u001b[39m)\u001b[39m*\u001b[39m(\u001b[39m1\u001b[39m \u001b[39m-\u001b[39m ((\u001b[39m1\u001b[39m\u001b[39m/\u001b[39m\u001b[39m33\u001b[39m) \u001b[39m+\u001b[39m (\u001b[39m32\u001b[39m\u001b[39m/\u001b[39m\u001b[39m33\u001b[39m)\u001b[39m*\u001b[39m(\u001b[39m.01\u001b[39m \u001b[39m+\u001b[39m \u001b[39m.99\u001b[39m\u001b[39m*\u001b[39m(\u001b[39m1\u001b[39m \u001b[39m-\u001b[39m \u001b[39m1\u001b[39m\u001b[39m/\u001b[39m(multiplier\u001b[39m-\u001b[39m\u001b[39m.01\u001b[39m)))))\n\u001b[1;32m----> <a href='vscode-notebook-cell:/d%3A/crash%20analytics/crash%20analytics/Crash-Analysis-master/Crash.ipynb#X20sZmlsZQ%3D%3D?line=3'>4</a>\u001b[0m xs \u001b[39m=\u001b[39m np\u001b[39m.\u001b[39mlinspace(\u001b[39m101\u001b[39m, \u001b[39m1001\u001b[39m, \u001b[39m901\u001b[39m) \u001b[39m/\u001b[39m \u001b[39m100\u001b[39m\n\u001b[0;32m      <a href='vscode-notebook-cell:/d%3A/crash%20analytics/crash%20analytics/Crash-Analysis-master/Crash.ipynb#X20sZmlsZQ%3D%3D?line=4'>5</a>\u001b[0m ys \u001b[39m=\u001b[39m [calculate_ev(x) \u001b[39mfor\u001b[39;00m x \u001b[39min\u001b[39;00m xs]\n\u001b[0;32m      <a href='vscode-notebook-cell:/d%3A/crash%20analytics/crash%20analytics/Crash-Analysis-master/Crash.ipynb#X20sZmlsZQ%3D%3D?line=5'>6</a>\u001b[0m y2s \u001b[39m=\u001b[39m [(results \u001b[39m<\u001b[39m x)\u001b[39m.\u001b[39mmean() \u001b[39m*\u001b[39m \u001b[39m-\u001b[39m\u001b[39m1\u001b[39m \u001b[39m+\u001b[39m (x \u001b[39m-\u001b[39m \u001b[39m1\u001b[39m)\u001b[39m*\u001b[39m(results \u001b[39m>\u001b[39m\u001b[39m=\u001b[39m x)\u001b[39m.\u001b[39mmean() \u001b[39mfor\u001b[39;00m x \u001b[39min\u001b[39;00m xs]\n",
      "\u001b[1;31mNameError\u001b[0m: name 'np' is not defined"
     ]
    }
   ],
   "source": [
    "def calculate_ev(multiplier):\n",
    "    return ((1/33) + (32/33)*(.01 + .99*(1 - 1/(multiplier-.01))))*-1 + (multiplier-1)*(1 - ((1/33) + (32/33)*(.01 + .99*(1 - 1/(multiplier-.01)))))\n",
    "\n",
    "xs = np.linspace(101, 1001, 901) / 100\n",
    "ys = [calculate_ev(x) for x in xs]\n",
    "y2s = [(results < x).mean() * -1 + (x - 1)*(results >= x).mean() for x in xs]\n",
    "\n",
    "plt.plot(xs, ys, linewidth=5)\n",
    "plt.xlabel(\"Multiplier\", fontsize=15)\n",
    "plt.ylabel(\"Expected Value\", fontsize=15)\n",
    "plt.xticks(fontsize=15)\n",
    "plt.yticks(fontsize=15)\n",
    "plt.ylim(-.045, -.025)\n",
    "plt.plot(xs, y2s, linewidth=3)\n",
    "plt.title(\"Expected Value by Multiplier\", fontsize=20)\n",
    "plt.legend([\"Theoretical Results\", \"Actual Results\"])"
   ]
  },
  {
   "cell_type": "markdown",
   "metadata": {},
   "source": [
    "## Martingale Test"
   ]
  },
  {
   "cell_type": "code",
   "execution_count": null,
   "metadata": {},
   "outputs": [],
   "source": [
    "negatives = []\n",
    "in_a_row = 0\n",
    "for multiplier in results:\n",
    "    if multiplier < 2:\n",
    "        in_a_row += 1\n",
    "    else:\n",
    "        in_a_row = 0\n",
    "    negatives.append(in_a_row)\n",
    "negatives = np.array(negatives)"
   ]
  },
  {
   "cell_type": "code",
   "execution_count": null,
   "metadata": {},
   "outputs": [],
   "source": [
    "7\n"
   ]
  },
  {
   "cell_type": "code",
   "execution_count": null,
   "metadata": {},
   "outputs": [
    {
     "name": "stdout",
     "output_type": "stream",
     "text": [
      "Probability of Losing 1 Game(s) in a Row: 0.5170600494353705\n",
      "Probability of Losing 2 Game(s) in a Row: 0.2671222475322703\n",
      "Probability of Losing 3 Game(s) in a Row: 0.13786652449958803\n",
      "Probability of Losing 4 Game(s) in a Row: 0.07155042892453836\n",
      "Probability of Losing 5 Game(s) in a Row: 0.03690528118386403\n",
      "Probability of Losing 6 Game(s) in a Row: 0.018866217547941\n",
      "Probability of Losing 7 Game(s) in a Row: 0.0096092020872712\n",
      "Probability of Losing 8 Game(s) in a Row: 0.004901533142700205\n",
      "Probability of Losing 9 Game(s) in a Row: 0.002457228711287743\n",
      "Probability of Losing 10 Game(s) in a Row: 0.0012504240779334078\n",
      "Probability of Losing 11 Game(s) in a Row: 0.0006074411541381929\n",
      "Probability of Losing 12 Game(s) in a Row: 0.00028594969224058546\n",
      "Probability of Losing 13 Game(s) in a Row: 0.00012439619379957673\n"
     ]
    }
   ],
   "source": [
    "for i in range(1, 14):\n",
    "    print(\"Probability of Losing %d Game(s) in a Row:\"%i, (negatives >= i).mean())"
   ]
  }
 ],
 "metadata": {
  "kernelspec": {
   "display_name": "Python 3",
   "language": "python",
   "name": "python3"
  },
  "language_info": {
   "codemirror_mode": {
    "name": "ipython",
    "version": 3
   },
   "file_extension": ".py",
   "mimetype": "text/x-python",
   "name": "python",
   "nbconvert_exporter": "python",
   "pygments_lexer": "ipython3",
   "version": "3.11.5"
  }
 },
 "nbformat": 4,
 "nbformat_minor": 4
}
